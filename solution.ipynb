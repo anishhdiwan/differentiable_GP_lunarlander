{
 "cells": [
  {
   "attachments": {},
   "cell_type": "markdown",
   "metadata": {},
   "source": [
    "# Evolving a Lunar Lander with differentiable Genetic Programming"
   ]
  },
  {
   "attachments": {},
   "cell_type": "markdown",
   "metadata": {},
   "source": [
    "## Installation\n",
    "To install the required libraries run the command:"
   ]
  },
  {
   "cell_type": "code",
   "execution_count": 102,
   "metadata": {},
   "outputs": [
    {
     "name": "stdout",
     "output_type": "stream",
     "text": [
      "Requirement already satisfied: pygame==2.1.0 in c:\\users\\floor\\miniconda3\\envs\\ea_env\\lib\\site-packages (from -r requirements.txt (line 1)) (2.1.0)\n",
      "Requirement already satisfied: pyglet==1.5.21 in c:\\users\\floor\\miniconda3\\envs\\ea_env\\lib\\site-packages (from -r requirements.txt (line 2)) (1.5.21)\n",
      "Requirement already satisfied: matplotlib in c:\\users\\floor\\miniconda3\\envs\\ea_env\\lib\\site-packages (from -r requirements.txt (line 3)) (3.7.1)\n",
      "Requirement already satisfied: numpy in c:\\users\\floor\\miniconda3\\envs\\ea_env\\lib\\site-packages (from -r requirements.txt (line 4)) (1.24.3)\n",
      "Requirement already satisfied: scikit-learn in c:\\users\\floor\\miniconda3\\envs\\ea_env\\lib\\site-packages (from -r requirements.txt (line 5)) (1.2.2)\n",
      "Requirement already satisfied: sympy>=1.9 in c:\\users\\floor\\miniconda3\\envs\\ea_env\\lib\\site-packages (from -r requirements.txt (line 6)) (1.12)\n",
      "Requirement already satisfied: joblib>=1.1.0 in c:\\users\\floor\\miniconda3\\envs\\ea_env\\lib\\site-packages (from -r requirements.txt (line 7)) (1.2.0)\n",
      "Requirement already satisfied: torch in c:\\users\\floor\\miniconda3\\envs\\ea_env\\lib\\site-packages (from -r requirements.txt (line 8)) (1.12.1)\n",
      "Requirement already satisfied: notebook in c:\\users\\floor\\miniconda3\\envs\\ea_env\\lib\\site-packages (from -r requirements.txt (line 9)) (6.5.4)\n",
      "Requirement already satisfied: swig in c:\\users\\floor\\miniconda3\\envs\\ea_env\\lib\\site-packages (from -r requirements.txt (line 10)) (4.1.1)\n",
      "Requirement already satisfied: gymnasium[box2d] in c:\\users\\floor\\miniconda3\\envs\\ea_env\\lib\\site-packages (from -r requirements.txt (line 11)) (0.26.3)\n",
      "Requirement already satisfied: contourpy>=1.0.1 in c:\\users\\floor\\miniconda3\\envs\\ea_env\\lib\\site-packages (from matplotlib->-r requirements.txt (line 3)) (1.0.7)\n",
      "Requirement already satisfied: cycler>=0.10 in c:\\users\\floor\\miniconda3\\envs\\ea_env\\lib\\site-packages (from matplotlib->-r requirements.txt (line 3)) (0.11.0)\n",
      "Requirement already satisfied: fonttools>=4.22.0 in c:\\users\\floor\\miniconda3\\envs\\ea_env\\lib\\site-packages (from matplotlib->-r requirements.txt (line 3)) (4.39.4)\n",
      "Requirement already satisfied: kiwisolver>=1.0.1 in c:\\users\\floor\\miniconda3\\envs\\ea_env\\lib\\site-packages (from matplotlib->-r requirements.txt (line 3)) (1.4.4)\n",
      "Requirement already satisfied: packaging>=20.0 in c:\\users\\floor\\miniconda3\\envs\\ea_env\\lib\\site-packages (from matplotlib->-r requirements.txt (line 3)) (23.1)\n",
      "Requirement already satisfied: pillow>=6.2.0 in c:\\users\\floor\\miniconda3\\envs\\ea_env\\lib\\site-packages (from matplotlib->-r requirements.txt (line 3)) (9.5.0)\n",
      "Requirement already satisfied: pyparsing>=2.3.1 in c:\\users\\floor\\miniconda3\\envs\\ea_env\\lib\\site-packages (from matplotlib->-r requirements.txt (line 3)) (3.0.9)\n",
      "Requirement already satisfied: python-dateutil>=2.7 in c:\\users\\floor\\miniconda3\\envs\\ea_env\\lib\\site-packages (from matplotlib->-r requirements.txt (line 3)) (2.8.2)\n",
      "Requirement already satisfied: importlib-resources>=3.2.0 in c:\\users\\floor\\miniconda3\\envs\\ea_env\\lib\\site-packages (from matplotlib->-r requirements.txt (line 3)) (5.12.0)\n",
      "Requirement already satisfied: scipy>=1.3.2 in c:\\users\\floor\\miniconda3\\envs\\ea_env\\lib\\site-packages (from scikit-learn->-r requirements.txt (line 5)) (1.10.1)\n",
      "Requirement already satisfied: threadpoolctl>=2.0.0 in c:\\users\\floor\\miniconda3\\envs\\ea_env\\lib\\site-packages (from scikit-learn->-r requirements.txt (line 5)) (3.1.0)\n",
      "Requirement already satisfied: mpmath>=0.19 in c:\\users\\floor\\miniconda3\\envs\\ea_env\\lib\\site-packages (from sympy>=1.9->-r requirements.txt (line 6)) (1.3.0)\n",
      "Requirement already satisfied: typing_extensions in c:\\users\\floor\\miniconda3\\envs\\ea_env\\lib\\site-packages (from torch->-r requirements.txt (line 8)) (4.6.1)\n",
      "Requirement already satisfied: jinja2 in c:\\users\\floor\\miniconda3\\envs\\ea_env\\lib\\site-packages (from notebook->-r requirements.txt (line 9)) (3.1.2)\n",
      "Requirement already satisfied: tornado>=6.1 in c:\\users\\floor\\miniconda3\\envs\\ea_env\\lib\\site-packages (from notebook->-r requirements.txt (line 9)) (6.3.2)\n",
      "Requirement already satisfied: pyzmq>=17 in c:\\users\\floor\\miniconda3\\envs\\ea_env\\lib\\site-packages (from notebook->-r requirements.txt (line 9)) (25.0.2)\n",
      "Requirement already satisfied: argon2-cffi in c:\\users\\floor\\miniconda3\\envs\\ea_env\\lib\\site-packages (from notebook->-r requirements.txt (line 9)) (21.3.0)\n",
      "Requirement already satisfied: traitlets>=4.2.1 in c:\\users\\floor\\miniconda3\\envs\\ea_env\\lib\\site-packages (from notebook->-r requirements.txt (line 9)) (5.9.0)\n",
      "Requirement already satisfied: jupyter-core>=4.6.1 in c:\\users\\floor\\miniconda3\\envs\\ea_env\\lib\\site-packages (from notebook->-r requirements.txt (line 9)) (5.3.0)\n",
      "Requirement already satisfied: jupyter-client>=5.3.4 in c:\\users\\floor\\miniconda3\\envs\\ea_env\\lib\\site-packages (from notebook->-r requirements.txt (line 9)) (8.2.0)\n",
      "Requirement already satisfied: ipython-genutils in c:\\users\\floor\\miniconda3\\envs\\ea_env\\lib\\site-packages (from notebook->-r requirements.txt (line 9)) (0.2.0)\n",
      "Requirement already satisfied: nbformat in c:\\users\\floor\\miniconda3\\envs\\ea_env\\lib\\site-packages (from notebook->-r requirements.txt (line 9)) (5.8.0)\n",
      "Requirement already satisfied: nbconvert>=5 in c:\\users\\floor\\miniconda3\\envs\\ea_env\\lib\\site-packages (from notebook->-r requirements.txt (line 9)) (7.4.0)\n",
      "Requirement already satisfied: nest-asyncio>=1.5 in c:\\users\\floor\\miniconda3\\envs\\ea_env\\lib\\site-packages (from notebook->-r requirements.txt (line 9)) (1.5.6)\n",
      "Requirement already satisfied: ipykernel in c:\\users\\floor\\miniconda3\\envs\\ea_env\\lib\\site-packages (from notebook->-r requirements.txt (line 9)) (6.23.1)\n",
      "Requirement already satisfied: Send2Trash>=1.8.0 in c:\\users\\floor\\miniconda3\\envs\\ea_env\\lib\\site-packages (from notebook->-r requirements.txt (line 9)) (1.8.2)\n",
      "Requirement already satisfied: terminado>=0.8.3 in c:\\users\\floor\\miniconda3\\envs\\ea_env\\lib\\site-packages (from notebook->-r requirements.txt (line 9)) (0.17.0)\n",
      "Requirement already satisfied: prometheus-client in c:\\users\\floor\\miniconda3\\envs\\ea_env\\lib\\site-packages (from notebook->-r requirements.txt (line 9)) (0.16.0)\n",
      "Requirement already satisfied: nbclassic>=0.4.7 in c:\\users\\floor\\miniconda3\\envs\\ea_env\\lib\\site-packages (from notebook->-r requirements.txt (line 9)) (1.0.0)\n",
      "Requirement already satisfied: cloudpickle>=1.2.0 in c:\\users\\floor\\miniconda3\\envs\\ea_env\\lib\\site-packages (from gymnasium[box2d]->-r requirements.txt (line 11)) (2.2.1)\n",
      "Requirement already satisfied: gymnasium-notices>=0.0.1 in c:\\users\\floor\\miniconda3\\envs\\ea_env\\lib\\site-packages (from gymnasium[box2d]->-r requirements.txt (line 11)) (0.0.1)\n",
      "Requirement already satisfied: importlib-metadata>=4.8.0 in c:\\users\\floor\\miniconda3\\envs\\ea_env\\lib\\site-packages (from gymnasium[box2d]->-r requirements.txt (line 11)) (6.6.0)\n",
      "Requirement already satisfied: box2d-py==2.3.5 in c:\\users\\floor\\miniconda3\\envs\\ea_env\\lib\\site-packages (from gymnasium[box2d]->-r requirements.txt (line 11)) (2.3.5)\n",
      "Requirement already satisfied: zipp>=0.5 in c:\\users\\floor\\miniconda3\\envs\\ea_env\\lib\\site-packages (from importlib-metadata>=4.8.0->gymnasium[box2d]->-r requirements.txt (line 11)) (3.15.0)\n",
      "Requirement already satisfied: platformdirs>=2.5 in c:\\users\\floor\\miniconda3\\envs\\ea_env\\lib\\site-packages (from jupyter-core>=4.6.1->notebook->-r requirements.txt (line 9)) (3.5.1)\n",
      "Requirement already satisfied: pywin32>=300 in c:\\users\\floor\\miniconda3\\envs\\ea_env\\lib\\site-packages (from jupyter-core>=4.6.1->notebook->-r requirements.txt (line 9)) (304)\n",
      "Requirement already satisfied: jupyter-server>=1.8 in c:\\users\\floor\\miniconda3\\envs\\ea_env\\lib\\site-packages (from nbclassic>=0.4.7->notebook->-r requirements.txt (line 9)) (2.5.0)\n",
      "Requirement already satisfied: notebook-shim>=0.2.3 in c:\\users\\floor\\miniconda3\\envs\\ea_env\\lib\\site-packages (from nbclassic>=0.4.7->notebook->-r requirements.txt (line 9)) (0.2.3)\n",
      "Requirement already satisfied: beautifulsoup4 in c:\\users\\floor\\miniconda3\\envs\\ea_env\\lib\\site-packages (from nbconvert>=5->notebook->-r requirements.txt (line 9)) (4.12.2)\n",
      "Requirement already satisfied: bleach in c:\\users\\floor\\miniconda3\\envs\\ea_env\\lib\\site-packages (from nbconvert>=5->notebook->-r requirements.txt (line 9)) (6.0.0)\n",
      "Requirement already satisfied: defusedxml in c:\\users\\floor\\miniconda3\\envs\\ea_env\\lib\\site-packages (from nbconvert>=5->notebook->-r requirements.txt (line 9)) (0.7.1)\n",
      "Requirement already satisfied: jupyterlab-pygments in c:\\users\\floor\\miniconda3\\envs\\ea_env\\lib\\site-packages (from nbconvert>=5->notebook->-r requirements.txt (line 9)) (0.2.2)\n",
      "Requirement already satisfied: markupsafe>=2.0 in c:\\users\\floor\\miniconda3\\envs\\ea_env\\lib\\site-packages (from nbconvert>=5->notebook->-r requirements.txt (line 9)) (2.1.2)\n",
      "Requirement already satisfied: mistune<3,>=2.0.3 in c:\\users\\floor\\miniconda3\\envs\\ea_env\\lib\\site-packages (from nbconvert>=5->notebook->-r requirements.txt (line 9)) (2.0.5)\n",
      "Requirement already satisfied: nbclient>=0.5.0 in c:\\users\\floor\\miniconda3\\envs\\ea_env\\lib\\site-packages (from nbconvert>=5->notebook->-r requirements.txt (line 9)) (0.8.0)\n",
      "Requirement already satisfied: pandocfilters>=1.4.1 in c:\\users\\floor\\miniconda3\\envs\\ea_env\\lib\\site-packages (from nbconvert>=5->notebook->-r requirements.txt (line 9)) (1.5.0)\n",
      "Requirement already satisfied: pygments>=2.4.1 in c:\\users\\floor\\miniconda3\\envs\\ea_env\\lib\\site-packages (from nbconvert>=5->notebook->-r requirements.txt (line 9)) (2.15.1)\n",
      "Requirement already satisfied: tinycss2 in c:\\users\\floor\\miniconda3\\envs\\ea_env\\lib\\site-packages (from nbconvert>=5->notebook->-r requirements.txt (line 9)) (1.2.1)\n",
      "Requirement already satisfied: fastjsonschema in c:\\users\\floor\\miniconda3\\envs\\ea_env\\lib\\site-packages (from nbformat->notebook->-r requirements.txt (line 9)) (2.17.1)\n",
      "Requirement already satisfied: jsonschema>=2.6 in c:\\users\\floor\\miniconda3\\envs\\ea_env\\lib\\site-packages (from nbformat->notebook->-r requirements.txt (line 9)) (4.17.3)\n",
      "Requirement already satisfied: six>=1.5 in c:\\users\\floor\\miniconda3\\envs\\ea_env\\lib\\site-packages (from python-dateutil>=2.7->matplotlib->-r requirements.txt (line 3)) (1.16.0)\n",
      "Requirement already satisfied: pywinpty>=1.1.0 in c:\\users\\floor\\miniconda3\\envs\\ea_env\\lib\\site-packages (from terminado>=0.8.3->notebook->-r requirements.txt (line 9)) (2.0.10)\n",
      "Requirement already satisfied: argon2-cffi-bindings in c:\\users\\floor\\miniconda3\\envs\\ea_env\\lib\\site-packages (from argon2-cffi->notebook->-r requirements.txt (line 9)) (21.2.0)\n",
      "Requirement already satisfied: comm>=0.1.1 in c:\\users\\floor\\miniconda3\\envs\\ea_env\\lib\\site-packages (from ipykernel->notebook->-r requirements.txt (line 9)) (0.1.3)\n",
      "Requirement already satisfied: debugpy>=1.6.5 in c:\\users\\floor\\miniconda3\\envs\\ea_env\\lib\\site-packages (from ipykernel->notebook->-r requirements.txt (line 9)) (1.6.7)\n",
      "Requirement already satisfied: ipython>=7.23.1 in c:\\users\\floor\\miniconda3\\envs\\ea_env\\lib\\site-packages (from ipykernel->notebook->-r requirements.txt (line 9)) (8.13.2)\n",
      "Requirement already satisfied: matplotlib-inline>=0.1 in c:\\users\\floor\\miniconda3\\envs\\ea_env\\lib\\site-packages (from ipykernel->notebook->-r requirements.txt (line 9)) (0.1.6)\n",
      "Requirement already satisfied: psutil in c:\\users\\floor\\miniconda3\\envs\\ea_env\\lib\\site-packages (from ipykernel->notebook->-r requirements.txt (line 9)) (5.9.5)\n",
      "Requirement already satisfied: backcall in c:\\users\\floor\\miniconda3\\envs\\ea_env\\lib\\site-packages (from ipython>=7.23.1->ipykernel->notebook->-r requirements.txt (line 9)) (0.2.0)\n",
      "Requirement already satisfied: decorator in c:\\users\\floor\\miniconda3\\envs\\ea_env\\lib\\site-packages (from ipython>=7.23.1->ipykernel->notebook->-r requirements.txt (line 9)) (5.1.1)\n",
      "Requirement already satisfied: jedi>=0.16 in c:\\users\\floor\\miniconda3\\envs\\ea_env\\lib\\site-packages (from ipython>=7.23.1->ipykernel->notebook->-r requirements.txt (line 9)) (0.18.2)\n",
      "Requirement already satisfied: pickleshare in c:\\users\\floor\\miniconda3\\envs\\ea_env\\lib\\site-packages (from ipython>=7.23.1->ipykernel->notebook->-r requirements.txt (line 9)) (0.7.5)\n",
      "Requirement already satisfied: prompt-toolkit!=3.0.37,<3.1.0,>=3.0.30 in c:\\users\\floor\\miniconda3\\envs\\ea_env\\lib\\site-packages (from ipython>=7.23.1->ipykernel->notebook->-r requirements.txt (line 9)) (3.0.38)\n",
      "Requirement already satisfied: stack-data in c:\\users\\floor\\miniconda3\\envs\\ea_env\\lib\\site-packages (from ipython>=7.23.1->ipykernel->notebook->-r requirements.txt (line 9)) (0.6.2)\n",
      "Requirement already satisfied: colorama in c:\\users\\floor\\miniconda3\\envs\\ea_env\\lib\\site-packages (from ipython>=7.23.1->ipykernel->notebook->-r requirements.txt (line 9)) (0.4.6)\n",
      "Requirement already satisfied: attrs>=17.4.0 in c:\\users\\floor\\miniconda3\\envs\\ea_env\\lib\\site-packages (from jsonschema>=2.6->nbformat->notebook->-r requirements.txt (line 9)) (23.1.0)\n",
      "Requirement already satisfied: pyrsistent!=0.17.0,!=0.17.1,!=0.17.2,>=0.14.0 in c:\\users\\floor\\miniconda3\\envs\\ea_env\\lib\\site-packages (from jsonschema>=2.6->nbformat->notebook->-r requirements.txt (line 9)) (0.19.3)\n",
      "Requirement already satisfied: anyio>=3.1.0 in c:\\users\\floor\\miniconda3\\envs\\ea_env\\lib\\site-packages (from jupyter-server>=1.8->nbclassic>=0.4.7->notebook->-r requirements.txt (line 9)) (3.6.2)\n",
      "Requirement already satisfied: jupyter-events>=0.4.0 in c:\\users\\floor\\miniconda3\\envs\\ea_env\\lib\\site-packages (from jupyter-server>=1.8->nbclassic>=0.4.7->notebook->-r requirements.txt (line 9)) (0.6.3)\n",
      "Requirement already satisfied: jupyter-server-terminals in c:\\users\\floor\\miniconda3\\envs\\ea_env\\lib\\site-packages (from jupyter-server>=1.8->nbclassic>=0.4.7->notebook->-r requirements.txt (line 9)) (0.4.4)\n",
      "Requirement already satisfied: websocket-client in c:\\users\\floor\\miniconda3\\envs\\ea_env\\lib\\site-packages (from jupyter-server>=1.8->nbclassic>=0.4.7->notebook->-r requirements.txt (line 9)) (1.5.2)\n",
      "Requirement already satisfied: cffi>=1.0.1 in c:\\users\\floor\\miniconda3\\envs\\ea_env\\lib\\site-packages (from argon2-cffi-bindings->argon2-cffi->notebook->-r requirements.txt (line 9)) (1.15.1)\n",
      "Requirement already satisfied: soupsieve>1.2 in c:\\users\\floor\\miniconda3\\envs\\ea_env\\lib\\site-packages (from beautifulsoup4->nbconvert>=5->notebook->-r requirements.txt (line 9)) (2.3.2.post1)\n",
      "Requirement already satisfied: webencodings in c:\\users\\floor\\miniconda3\\envs\\ea_env\\lib\\site-packages (from bleach->nbconvert>=5->notebook->-r requirements.txt (line 9)) (0.5.1)\n",
      "Requirement already satisfied: idna>=2.8 in c:\\users\\floor\\miniconda3\\envs\\ea_env\\lib\\site-packages (from anyio>=3.1.0->jupyter-server>=1.8->nbclassic>=0.4.7->notebook->-r requirements.txt (line 9)) (3.4)\n",
      "Requirement already satisfied: sniffio>=1.1 in c:\\users\\floor\\miniconda3\\envs\\ea_env\\lib\\site-packages (from anyio>=3.1.0->jupyter-server>=1.8->nbclassic>=0.4.7->notebook->-r requirements.txt (line 9)) (1.3.0)\n",
      "Requirement already satisfied: pycparser in c:\\users\\floor\\miniconda3\\envs\\ea_env\\lib\\site-packages (from cffi>=1.0.1->argon2-cffi-bindings->argon2-cffi->notebook->-r requirements.txt (line 9)) (2.21)\n",
      "Requirement already satisfied: parso<0.9.0,>=0.8.0 in c:\\users\\floor\\miniconda3\\envs\\ea_env\\lib\\site-packages (from jedi>=0.16->ipython>=7.23.1->ipykernel->notebook->-r requirements.txt (line 9)) (0.8.3)\n",
      "Requirement already satisfied: python-json-logger>=2.0.4 in c:\\users\\floor\\miniconda3\\envs\\ea_env\\lib\\site-packages (from jupyter-events>=0.4.0->jupyter-server>=1.8->nbclassic>=0.4.7->notebook->-r requirements.txt (line 9)) (2.0.7)\n",
      "Requirement already satisfied: pyyaml>=5.3 in c:\\users\\floor\\miniconda3\\envs\\ea_env\\lib\\site-packages (from jupyter-events>=0.4.0->jupyter-server>=1.8->nbclassic>=0.4.7->notebook->-r requirements.txt (line 9)) (6.0)\n",
      "Requirement already satisfied: rfc3339-validator in c:\\users\\floor\\miniconda3\\envs\\ea_env\\lib\\site-packages (from jupyter-events>=0.4.0->jupyter-server>=1.8->nbclassic>=0.4.7->notebook->-r requirements.txt (line 9)) (0.1.4)\n",
      "Requirement already satisfied: rfc3986-validator>=0.1.1 in c:\\users\\floor\\miniconda3\\envs\\ea_env\\lib\\site-packages (from jupyter-events>=0.4.0->jupyter-server>=1.8->nbclassic>=0.4.7->notebook->-r requirements.txt (line 9)) (0.1.1)\n",
      "Requirement already satisfied: wcwidth in c:\\users\\floor\\miniconda3\\envs\\ea_env\\lib\\site-packages (from prompt-toolkit!=3.0.37,<3.1.0,>=3.0.30->ipython>=7.23.1->ipykernel->notebook->-r requirements.txt (line 9)) (0.2.6)\n",
      "Requirement already satisfied: executing>=1.2.0 in c:\\users\\floor\\miniconda3\\envs\\ea_env\\lib\\site-packages (from stack-data->ipython>=7.23.1->ipykernel->notebook->-r requirements.txt (line 9)) (1.2.0)\n",
      "Requirement already satisfied: asttokens>=2.1.0 in c:\\users\\floor\\miniconda3\\envs\\ea_env\\lib\\site-packages (from stack-data->ipython>=7.23.1->ipykernel->notebook->-r requirements.txt (line 9)) (2.2.1)\n",
      "Requirement already satisfied: pure-eval in c:\\users\\floor\\miniconda3\\envs\\ea_env\\lib\\site-packages (from stack-data->ipython>=7.23.1->ipykernel->notebook->-r requirements.txt (line 9)) (0.2.2)\n",
      "Requirement already satisfied: fqdn in c:\\users\\floor\\miniconda3\\envs\\ea_env\\lib\\site-packages (from jsonschema>=2.6->nbformat->notebook->-r requirements.txt (line 9)) (1.5.1)\n",
      "Requirement already satisfied: isoduration in c:\\users\\floor\\miniconda3\\envs\\ea_env\\lib\\site-packages (from jsonschema>=2.6->nbformat->notebook->-r requirements.txt (line 9)) (20.11.0)\n",
      "Requirement already satisfied: jsonpointer>1.13 in c:\\users\\floor\\miniconda3\\envs\\ea_env\\lib\\site-packages (from jsonschema>=2.6->nbformat->notebook->-r requirements.txt (line 9)) (2.3)\n",
      "Requirement already satisfied: uri-template in c:\\users\\floor\\miniconda3\\envs\\ea_env\\lib\\site-packages (from jsonschema>=2.6->nbformat->notebook->-r requirements.txt (line 9)) (1.2.0)\n",
      "Requirement already satisfied: webcolors>=1.11 in c:\\users\\floor\\miniconda3\\envs\\ea_env\\lib\\site-packages (from jsonschema>=2.6->nbformat->notebook->-r requirements.txt (line 9)) (1.13)\n",
      "Requirement already satisfied: arrow>=0.15.0 in c:\\users\\floor\\miniconda3\\envs\\ea_env\\lib\\site-packages (from isoduration->jsonschema>=2.6->nbformat->notebook->-r requirements.txt (line 9)) (1.2.3)\n"
     ]
    }
   ],
   "source": [
    "#test change\n",
    "!pip install -r requirements.txt"
   ]
  },
  {
   "attachments": {},
   "cell_type": "markdown",
   "metadata": {},
   "source": [
    "## Imports\n",
    "Imports from the standard genepro-multi library are done here. Any adjustments (e.g. different operators) should be made in the notebook. For example:\n",
    "\n",
    "```\n",
    "class SmoothOperator(Node):\n",
    "  def __init__(self):\n",
    "    super(SmoothOperator,self).__init__()\n",
    "    self.arity = 1\n",
    "    self.symb = \"SmoothOperator\"\n",
    "\n",
    "  def _get_args_repr(self, args):\n",
    "    return self._get_typical_repr(args,'before')\n",
    "\n",
    "  def get_output(self, X):\n",
    "    c_outs = self._get_child_outputs(X)\n",
    "    return np.smoothOperation(c_outs[0])\n",
    "\n",
    "  def get_output_pt(self, X):\n",
    "    c_outs = self._get_child_outputs_pt(X)\n",
    "    return torch.smoothOperation(c_outs[0])\n",
    "```"
   ]
  },
  {
   "cell_type": "code",
   "execution_count": 28,
   "metadata": {},
   "outputs": [],
   "source": [
    "%reload_ext autoreload\n",
    "%autoreload 2\n",
    "\n",
    "import importlib \n",
    "import genepro\n",
    "importlib.reload(genepro)\n",
    "\n",
    "import gymnasium as gym\n",
    "\n",
    "from genepro.node_impl import *\n",
    "from genepro.evo import Evolution\n",
    "from genepro.node_impl import Constant\n",
    "from genepro.variation import *\n",
    "\n",
    "import torch\n",
    "import torch.optim as optim\n",
    "\n",
    "import random\n",
    "import os\n",
    "import copy\n",
    "from collections import namedtuple, deque\n",
    "\n",
    "import matplotlib.pyplot as plt\n",
    "from matplotlib import animation\n",
    "\n",
    "import time\n",
    "\n",
    "import statistics"
   ]
  },
  {
   "cell_type": "code",
   "execution_count": 104,
   "metadata": {
    "collapsed": false,
    "pycharm": {
     "name": "#%%\n"
    }
   },
   "outputs": [],
   "source": [
    "#workaround for error 15:\n",
    "#OMP: Error #15: Initializing libiomp5md.dll, but found libiomp5md.dll already initialized.\n",
    "import os\n",
    "os.environ[\"KMP_DUPLICATE_LIB_OK\"]=\"TRUE\""
   ]
  },
  {
   "attachments": {},
   "cell_type": "markdown",
   "metadata": {},
   "source": [
    "## Reinforcement Learning Setup\n",
    "Here we first setup the Gymnasium environment. Please see https://gymnasium.farama.org/environments/box2d/lunar_lander/ for more information on the environment. \n",
    "\n",
    "Then a memory buffer is made. This is a buffer in which state transitions are stored. When the buffer reaches its maximum capacity old transitions are replaced by new ones.\n",
    "\n",
    "A frame buffer is initialised used to later store animation frames of the environment."
   ]
  },
  {
   "cell_type": "code",
   "execution_count": 105,
   "metadata": {},
   "outputs": [],
   "source": [
    "env = gym.make(\"LunarLander-v2\", render_mode=\"rgb_array\")"
   ]
  },
  {
   "cell_type": "code",
   "execution_count": 106,
   "metadata": {},
   "outputs": [],
   "source": [
    "Transition = namedtuple('Transition', ('state', 'action', 'next_state', 'reward'))\n",
    "\n",
    "class ReplayMemory(object):\n",
    "    def __init__(self, capacity): #specifies the max length of the memory buffer by making deque() object\n",
    "        self.memory = deque([], maxlen=capacity)\n",
    "\n",
    "    def push(self, *args): #pushes new transition(state,action,nextstate, reward) onto memory\n",
    "        \"\"\"Save a transition\"\"\"\n",
    "        self.memory.append(Transition(*args))\n",
    "\n",
    "    def sample(self, batch_size): #returns sample batch of transitions in memory\n",
    "        return random.sample(self.memory, batch_size)\n",
    "\n",
    "    def __len__(self): #returns current length of the memory\n",
    "        return len(self.memory)\n",
    "\n",
    "    def __iadd__(self, other): #changes and returns the existing memory\n",
    "      self.memory += other.memory\n",
    "      return self \n",
    "\n",
    "    def __add__(self, other): #leaves existing memory but creates and returns new combined memory\n",
    "      self.memory = self.memory + other.memory \n",
    "      return self"
   ]
  },
  {
   "cell_type": "code",
   "execution_count": 107,
   "metadata": {},
   "outputs": [],
   "source": [
    "frames = []"
   ]
  },
  {
   "attachments": {},
   "cell_type": "markdown",
   "metadata": {},
   "source": [
    "## Fitness Function\n",
    "\n",
    "Here you get to be creative. The default setup evaluates 5 episodes of 300 frames. Think of what action to pick and what fitness function to use. The Multi-tree takes an input of $n \\times d$ where $n$ is a batch of size 1."
   ]
  },
  {
   "cell_type": "code",
   "execution_count": 108,
   "metadata": {},
   "outputs": [],
   "source": [
    "def fitness_function_pt(multitree, num_episodes=5, episode_duration=300, render=False, ignore_done=False):\n",
    "  memory = ReplayMemory(10000)\n",
    "  rewards = []\n",
    "\n",
    "  for _ in range(num_episodes):\n",
    "    # get initial state of the environment\n",
    "    observation = env.reset() #resets to initial state (first seed is chosen randomly, then stays the same)\n",
    "    observation = observation[0] #returns metric(?) of first observation\n",
    "    \n",
    "    for _ in range(episode_duration):\n",
    "      if render:\n",
    "        frames.append(env.render())\n",
    "\n",
    "      input_sample = torch.from_numpy(observation.reshape((1,-1))).float() #creates a tensor from a numpy array (shared memory)\n",
    "      \n",
    "      # what goes here? TODO\n",
    "      action = None\n",
    "      #old definition(could be a hint): \n",
    "      action = torch.argmax(multitree.get_output_pt(input_sample))\n",
    "      observation, reward, terminated, truncated, info = env.step(action.item()) #updates environment with input action\n",
    "      rewards.append(reward)\n",
    "      output_sample = torch.from_numpy(observation.reshape((1,-1))).float()\n",
    "      memory.push(input_sample, torch.tensor([[action.item()]]), output_sample, torch.tensor([reward]))\n",
    "      if (terminated or truncated) and not ignore_done:\n",
    "        break\n",
    "\n",
    "  fitness = np.sum(rewards)\n",
    "  \n",
    "  return fitness, memory"
   ]
  },
  {
   "attachments": {},
   "cell_type": "markdown",
   "metadata": {},
   "source": [
    "## Evolution Setup\n",
    "Here the leaf and internal nodes are defined. Think about the odds of sampling a constant in this default configurations. Also think about any operators that could be useful and add them here. \n",
    "\n",
    "Adjust the population size (multiple of 8 if you want to use the standard tournament selection), max generations and max tree size to taste. Be aware that each of these settings can increase the runtime."
   ]
  },
  {
   "cell_type": "code",
   "execution_count": 29,
   "metadata": {},
   "outputs": [],
   "source": [
    "num_features = env.observation_space.shape[0]\n",
    "leaf_nodes = [Feature(i) for i in range(num_features)]\n",
    "leaf_nodes = leaf_nodes + [Constant()] # Think about the probability of sampling a coefficient\n",
    "internal_nodes = [Plus(),Minus(),Times(),Div()] #Add your own operators here\n",
    "\n",
    "evo = Evolution(\n",
    "    fitness_function_pt, internal_nodes, leaf_nodes,\n",
    "    4,\n",
    "    pop_size=256,\n",
    "    max_gens=10,\n",
    "    max_tree_size=31,\n",
    "    n_jobs=8,\n",
    "    verbose=True,\n",
    "    crossovers=[{\"fun\":subtree_crossover, \"rate\": 0.7}],\n",
    "    mutations=[{\"fun\":subtree_mutation, \"rate\": 0.7}],\n",
    "    coeff_opts=[{\"fun\":coeff_mutation, \"rate\": 0.1}],\n",
    "    )"
   ]
  },
  {
   "attachments": {},
   "cell_type": "markdown",
   "metadata": {},
   "source": [
    "## Evolve\n",
    "Running this cell will use all the settings above as parameters"
   ]
  },
  {
   "cell_type": "code",
   "execution_count": 110,
   "metadata": {},
   "outputs": [
    {
     "name": "stdout",
     "output_type": "stream",
     "text": [
      "gen: 1,\tbest of gen fitness: -320.009,\tbest of gen size: 29\n",
      "gen: 2,\tbest of gen fitness: -149.657,\tbest of gen size: 29\n",
      "gen: 3,\tbest of gen fitness: -197.983,\tbest of gen size: 29\n",
      "gen: 4,\tbest of gen fitness: -175.757,\tbest of gen size: 29\n",
      "gen: 5,\tbest of gen fitness: -71.851,\tbest of gen size: 29\n",
      "gen: 6,\tbest of gen fitness: 65.096,\tbest of gen size: 29\n",
      "gen: 7,\tbest of gen fitness: 35.042,\tbest of gen size: 31\n",
      "gen: 8,\tbest of gen fitness: -11.443,\tbest of gen size: 29\n",
      "gen: 9,\tbest of gen fitness: 117.357,\tbest of gen size: 29\n",
      "gen: 10,\tbest of gen fitness: 108.024,\tbest of gen size: 29\n",
      "Computation time: 2372.040397644043 seconds\n"
     ]
    }
   ],
   "source": [
    "start_time = time.time()\n",
    "evo.evolve()\n",
    "end_time = time.time()\n",
    "comp_time = end_time-start_time\n",
    "print(f\"Computation time: {comp_time} seconds\")"
   ]
  },
  {
   "attachments": {},
   "cell_type": "markdown",
   "metadata": {},
   "source": [
    "# Test"
   ]
  },
  {
   "cell_type": "code",
   "execution_count": 111,
   "metadata": {},
   "outputs": [
    {
     "name": "stderr",
     "output_type": "stream",
     "text": [
      "c:\\Users\\floor\\miniconda3\\envs\\EA_env\\lib\\site-packages\\gymnasium\\utils\\passive_env_checker.py:233: DeprecationWarning: `np.bool8` is a deprecated alias for `np.bool_`.  (Deprecated NumPy 1.24)\n",
      "  if not isinstance(terminated, (bool, np.bool8)):\n"
     ]
    },
    {
     "data": {
      "image/png": "[encoded data removed]",
      "text/plain": [
       "<Figure size 640x480 with 1 Axes>"
      ]
     },
     "metadata": {},
     "output_type": "display_data"
    },
    {
     "name": "stdout",
     "output_type": "stream",
     "text": [
      "['((x_7+((x_4+x_3)+(x_1-x_7)))/((x_7*x_2)*x_4))', '(((x_6/3.171157121658325)/x_5)-(((x_7*(x_3+x_0))-(x_2-x_4))*(((x_4/x_1)*x_7)+(x_0*(x_4/x_4)))))', '((((x_3/x_7)-x_5)/x_0)/((x_2-4.012308597564697)/(x_4+x_5)))', '((((x_1-x_2)/(x_6+x_2))*((x_1/x_2)*(x_6*x_7)))-(((x_5*x_3)+x_2)*((x_0+x_3)-(-1.4958195686340332-x_1))))']\n",
      "72.81037827214365\n"
     ]
    }
   ],
   "source": [
    "def get_test_score(tree):\n",
    "    rewards = []\n",
    "\n",
    "    for i in range(5): #run 5 episodes for baseline\n",
    "      # get initial state\n",
    "      observation = env.reset(seed=i)\n",
    "      observation = observation[0]\n",
    "\n",
    "      for _ in range(300): #300 time steps for baseline\n",
    "        # build up the input sample for GP\n",
    "        input_sample = torch.from_numpy(observation.reshape((1,-1))).float()\n",
    "        # get output (squeezing because it is encapsulated in an array)\n",
    "        output = tree.get_output_pt(input_sample)\n",
    "        action = torch.argmax(output) # What goes here?\n",
    "        observation, reward, terminated, truncated, info = env.step(action.item())\n",
    "        rewards.append(reward)\n",
    "\n",
    "        output_sample = torch.from_numpy(observation.reshape((1,-1))).float()\n",
    "        if (terminated or truncated):\n",
    "            break\n",
    "\n",
    "    fitness = np.sum(rewards)\n",
    "    \n",
    "    return fitness\n",
    "\n",
    "gen = range(len(evo.best_of_gens)) #generation\n",
    "avg_rewards = [] #average reward\n",
    "for i in evo.best_of_gens:\n",
    "    #print(\"for gen\",gen_counter)\n",
    "    avg_reward = get_test_score(i)/5\n",
    "    avg_rewards.append(avg_reward)\n",
    "\n",
    "#plot generation vs fitness\n",
    "fig, ax = plt.subplots()\n",
    "ax.plot(gen,avg_rewards)\n",
    "ax.set_xlabel('Generation')\n",
    "ax.set_ylabel('Average Reward')\n",
    "ax.set_title('Average reward gained for five episodes by generation')\n",
    "\n",
    "plt.show()\n",
    "\n",
    "best = evo.best_of_gens[-1]\n",
    "print(best.get_readable_repr())\n",
    "print(get_test_score(best))"
   ]
  },
  {
   "cell_type": "code",
   "execution_count": 118,
   "metadata": {},
   "outputs": [
    {
     "data": {
      "image/png": "[encoded data removed]",
      "text/plain": [
       "<Figure size 640x480 with 1 Axes>"
      ]
     },
     "metadata": {},
     "output_type": "display_data"
    }
   ],
   "source": [
    "fig2, ax2 = plt.subplots()\n",
    "gen = range(evo.num_gens) \n",
    "\n",
    "medians = []\n",
    "percentile25 = []\n",
    "percentile75 = []\n",
    "    \n",
    "for gen_pop_fitness in evo.results:\n",
    "    medians.append(statistics.median(gen_pop_fitness))\n",
    "    qs = statistics.quantiles(gen_pop_fitness, n=4)\n",
    "    percentile75.append(qs[0])\n",
    "    percentile25.append(qs[-1])\n",
    "\n",
    "ax2.plot(gen,medians)\n",
    "ax2.fill_between(gen, percentile25, percentile75, color='b', alpha=.1)\n",
    "    \n",
    "ax2.set_xlabel('Generation')\n",
    "ax2.set_ylabel('Fitness')\n",
    "ax2.set_title('Fitness of median individual in population, spread from 75th to 25th quantile')\n",
    "    \n",
    "plt.show()   \n"
   ]
  },
  {
   "attachments": {},
   "cell_type": "markdown",
   "metadata": {},
   "source": [
    "## Make an animation\n",
    "Here the best evolved individual is selected and one episode is rendered. Make sure to save your lunar landers over time to track progress and make comparisons."
   ]
  },
  {
   "cell_type": "code",
   "execution_count": 113,
   "metadata": {
    "collapsed": false,
    "pycharm": {
     "name": "#%%\n"
    }
   },
   "outputs": [],
   "source": [
    "#test imagemagick\n",
    "#!magick --version\n",
    "\n",
    "#!conda install -c conda-forge imagemagick"
   ]
  },
  {
   "cell_type": "code",
   "execution_count": 114,
   "metadata": {},
   "outputs": [
    {
     "name": "stderr",
     "output_type": "stream",
     "text": [
      "MovieWriter imagemagick unavailable; using Pillow instead.\n"
     ]
    },
    {
     "data": {
      "image/png": "[encoded data removed]",
      "text/plain": [
       "<Figure size 600x400 with 1 Axes>"
      ]
     },
     "metadata": {},
     "output_type": "display_data"
    }
   ],
   "source": [
    "frames = []\n",
    "\n",
    "# gist to save gif from https://gist.github.com/botforge/64cbb71780e6208172bbf03cd9293553\n",
    "def save_frames_as_gif(frames, path='./', filename='evolved_lander.gif'):\n",
    "  plt.figure(figsize=(frames[0].shape[1] / 72.0, frames[0].shape[0] / 72.0), dpi=72)\n",
    "  patch = plt.imshow(frames[0])\n",
    "  plt.axis('off')\n",
    "  def animate(i):\n",
    "      patch.set_data(frames[i])\n",
    "  anim = animation.FuncAnimation(plt.gcf(), animate, frames = len(frames), interval=50)\n",
    "  anim.save(path + filename, writer='imagemagick', fps=60)\n",
    "\n",
    "frames = []\n",
    "fitness_function_pt(best, num_episodes=1, episode_duration=500, render=True, ignore_done=False)\n",
    "env.close()\n",
    "save_frames_as_gif(frames)"
   ]
  },
  {
   "attachments": {},
   "cell_type": "markdown",
   "metadata": {},
   "source": [
    "## Play animation"
   ]
  },
  {
   "attachments": {},
   "cell_type": "markdown",
   "metadata": {},
   "source": [
    "<img src=\"evolved_lander.gif\" width=\"750\">"
   ]
  },
  {
   "attachments": {},
   "cell_type": "markdown",
   "metadata": {},
   "source": [
    "## Optimisation\n",
    "The coefficients in the multi-tree aren't optimised. Here Q-learning (taken from https://pytorch.org/tutorials/intermediate/reinforcement_q_learning.html) is used to optimise the weights further. Incorporate coefficient optimisation in training your agent(s). Coefficient Optimisation can be expensive. Think about how often you want to optimise, when, which individuals etc."
   ]
  },
  {
   "cell_type": "code",
   "execution_count": 115,
   "metadata": {},
   "outputs": [
    {
     "name": "stdout",
     "output_type": "stream",
     "text": [
      "['((x_7+((x_4+x_3)+(x_1-x_7)))/((x_7*x_2)*x_4))', '(((x_6/3.2088193893432617)/x_5)-(((x_7*(x_3+x_0))-(x_2-x_4))*(((x_4/x_1)*x_7)+(x_0*(x_4/x_4)))))', '((((x_3/x_7)-x_5)/x_0)/((x_2-4.241664886474609)/(x_4+x_5)))', '((((x_1-x_2)/(x_6+x_2))*((x_1/x_2)*(x_6*x_7)))-(((x_5*x_3)+x_2)*((x_0+x_3)-(-1.8674522638320923-x_1))))']\n",
      "317.05111907176445\n"
     ]
    }
   ],
   "source": [
    "batch_size = 128\n",
    "GAMMA = 0.99\n",
    "\n",
    "constants = best.get_subtrees_consts()\n",
    "\n",
    "if len(constants)>0:\n",
    "  optimizer = optim.AdamW(constants, lr=1e-3, amsgrad=True)\n",
    "\n",
    "for _ in range(500):\n",
    "\n",
    "  if len(constants)>0 and len(evo.memory)>batch_size:\n",
    "    target_tree = copy.deepcopy(best)\n",
    "\n",
    "    transitions = evo.memory.sample(batch_size)\n",
    "    batch = Transition(*zip(*transitions))\n",
    "    \n",
    "    non_final_mask = torch.tensor(tuple(map(lambda s: s is not None,\n",
    "                                        batch.next_state)), dtype=torch.bool)\n",
    "\n",
    "    non_final_next_states = torch.cat([s for s in batch.next_state\n",
    "                                               if s is not None])\n",
    "    state_batch = torch.cat(batch.state)\n",
    "    action_batch = torch.cat(batch.action)\n",
    "    reward_batch = torch.cat(batch.reward)\n",
    "\n",
    "    state_action_values = best.get_output_pt(state_batch).gather(1, action_batch)\n",
    "    next_state_values = torch.zeros(batch_size, dtype=torch.float)\n",
    "    with torch.no_grad():\n",
    "      next_state_values[non_final_mask] = target_tree.get_output_pt(non_final_next_states).max(1)[0].float()\n",
    "\n",
    "    expected_state_action_values = (next_state_values * GAMMA) + reward_batch\n",
    "    \n",
    "    criterion = nn.SmoothL1Loss()\n",
    "    loss = criterion(state_action_values, expected_state_action_values.unsqueeze(1))\n",
    "   \n",
    "    # Optimize the model\n",
    "    optimizer.zero_grad()\n",
    "    loss.backward()\n",
    "    torch.nn.utils.clip_grad_value_(constants, 100)\n",
    "    optimizer.step()\n",
    "\n",
    "print(best.get_readable_repr())\n",
    "print(get_test_score(best))"
   ]
  },
  {
   "cell_type": "code",
   "execution_count": 116,
   "metadata": {},
   "outputs": [
    {
     "name": "stderr",
     "output_type": "stream",
     "text": [
      "MovieWriter imagemagick unavailable; using Pillow instead.\n"
     ]
    },
    {
     "data": {
      "image/png": "[encoded data removed]",
      "text/plain": [
       "<Figure size 600x400 with 1 Axes>"
      ]
     },
     "metadata": {},
     "output_type": "display_data"
    }
   ],
   "source": [
    "frames = []\n",
    "fitness_function_pt(best, num_episodes=1, episode_duration=500, render=True, ignore_done=False)\n",
    "env.close()\n",
    "save_frames_as_gif(frames, filename='evolved_lander_RL.gif')"
   ]
  },
  {
   "attachments": {},
   "cell_type": "markdown",
   "metadata": {},
   "source": [
    "<img src=\"evolved_lander_RL.gif\" width=\"750\">"
   ]
  },
  {
   "cell_type": "code",
   "execution_count": null,
   "metadata": {},
   "outputs": [],
   "source": []
  },
  {
   "cell_type": "code",
   "execution_count": null,
   "metadata": {},
   "outputs": [],
   "source": []
  }
 ],
 "metadata": {
  "kernelspec": {
   "display_name": "PyCharm (pycharm)",
   "language": "python",
   "name": "pycharm-fd35777e"
  },
  "language_info": {
   "codemirror_mode": {
    "name": "ipython",
    "version": 3
   },
   "file_extension": ".py",
   "mimetype": "text/x-python",
   "name": "python",
   "nbconvert_exporter": "python",
   "pygments_lexer": "ipython3",
   "version": "3.9.16"
  }
 },
 "nbformat": 4,
 "nbformat_minor": 4
}
