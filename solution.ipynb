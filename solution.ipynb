{
 "cells": [
  {
   "cell_type": "markdown",
   "metadata": {},
   "source": [
    "# Evolving a Lunar Lander with differentiable Genetic Programming"
   ]
  },
  {
   "cell_type": "markdown",
   "metadata": {},
   "source": [
    "## Installation\n",
    "To install the required libraries run the command:"
   ]
  },
  {
   "cell_type": "code",
   "execution_count": 1,
   "metadata": {},
   "outputs": [
    {
     "name": "stdout",
     "output_type": "stream",
     "text": [
      "Collecting pygame==2.1.0 (from -r requirements.txt (line 1))\n",
      "  Using cached pygame-2.1.0-cp39-cp39-win_amd64.whl (4.8 MB)\n",
      "Collecting pyglet==1.5.21 (from -r requirements.txt (line 2))\n",
      "  Using cached pyglet-1.5.21-py3-none-any.whl (1.1 MB)\n",
      "Requirement already satisfied: matplotlib in c:\\users\\sarah\\anaconda3\\envs\\lunar-lander-gp\\lib\\site-packages (from -r requirements.txt (line 3)) (3.7.1)\n",
      "Requirement already satisfied: numpy in c:\\users\\sarah\\anaconda3\\envs\\lunar-lander-gp\\lib\\site-packages (from -r requirements.txt (line 4)) (1.24.3)\n",
      "Requirement already satisfied: scikit-learn in c:\\users\\sarah\\anaconda3\\envs\\lunar-lander-gp\\lib\\site-packages (from -r requirements.txt (line 5)) (1.2.2)\n",
      "Requirement already satisfied: sympy>=1.9 in c:\\users\\sarah\\anaconda3\\envs\\lunar-lander-gp\\lib\\site-packages (from -r requirements.txt (line 6)) (1.12)\n",
      "Requirement already satisfied: joblib>=1.1.0 in c:\\users\\sarah\\anaconda3\\envs\\lunar-lander-gp\\lib\\site-packages (from -r requirements.txt (line 7)) (1.2.0)\n",
      "Collecting torch (from -r requirements.txt (line 8))\n",
      "  Using cached torch-2.0.1-cp39-cp39-win_amd64.whl (172.4 MB)\n",
      "Requirement already satisfied: notebook in c:\\users\\sarah\\anaconda3\\envs\\lunar-lander-gp\\lib\\site-packages (from -r requirements.txt (line 9)) (6.5.4)\n",
      "Collecting swig (from -r requirements.txt (line 10))\n",
      "  Using cached swig-4.1.1-py2.py3-none-win_amd64.whl (2.5 MB)\n",
      "Requirement already satisfied: gymnasium[box2d] in c:\\users\\sarah\\anaconda3\\envs\\lunar-lander-gp\\lib\\site-packages (from -r requirements.txt (line 11)) (0.28.1)\n",
      "Requirement already satisfied: contourpy>=1.0.1 in c:\\users\\sarah\\anaconda3\\envs\\lunar-lander-gp\\lib\\site-packages (from matplotlib->-r requirements.txt (line 3)) (1.0.7)\n",
      "Requirement already satisfied: cycler>=0.10 in c:\\users\\sarah\\anaconda3\\envs\\lunar-lander-gp\\lib\\site-packages (from matplotlib->-r requirements.txt (line 3)) (0.11.0)\n",
      "Requirement already satisfied: fonttools>=4.22.0 in c:\\users\\sarah\\anaconda3\\envs\\lunar-lander-gp\\lib\\site-packages (from matplotlib->-r requirements.txt (line 3)) (4.39.4)\n",
      "Requirement already satisfied: kiwisolver>=1.0.1 in c:\\users\\sarah\\anaconda3\\envs\\lunar-lander-gp\\lib\\site-packages (from matplotlib->-r requirements.txt (line 3)) (1.4.4)\n",
      "Requirement already satisfied: packaging>=20.0 in c:\\users\\sarah\\anaconda3\\envs\\lunar-lander-gp\\lib\\site-packages (from matplotlib->-r requirements.txt (line 3)) (23.1)\n",
      "Requirement already satisfied: pillow>=6.2.0 in c:\\users\\sarah\\anaconda3\\envs\\lunar-lander-gp\\lib\\site-packages (from matplotlib->-r requirements.txt (line 3)) (9.5.0)\n",
      "Requirement already satisfied: pyparsing>=2.3.1 in c:\\users\\sarah\\anaconda3\\envs\\lunar-lander-gp\\lib\\site-packages (from matplotlib->-r requirements.txt (line 3)) (3.0.9)\n",
      "Requirement already satisfied: python-dateutil>=2.7 in c:\\users\\sarah\\anaconda3\\envs\\lunar-lander-gp\\lib\\site-packages (from matplotlib->-r requirements.txt (line 3)) (2.8.2)\n",
      "Requirement already satisfied: importlib-resources>=3.2.0 in c:\\users\\sarah\\anaconda3\\envs\\lunar-lander-gp\\lib\\site-packages (from matplotlib->-r requirements.txt (line 3)) (5.12.0)\n",
      "Requirement already satisfied: scipy>=1.3.2 in c:\\users\\sarah\\anaconda3\\envs\\lunar-lander-gp\\lib\\site-packages (from scikit-learn->-r requirements.txt (line 5)) (1.10.1)\n",
      "Requirement already satisfied: threadpoolctl>=2.0.0 in c:\\users\\sarah\\anaconda3\\envs\\lunar-lander-gp\\lib\\site-packages (from scikit-learn->-r requirements.txt (line 5)) (3.1.0)\n",
      "Requirement already satisfied: mpmath>=0.19 in c:\\users\\sarah\\anaconda3\\envs\\lunar-lander-gp\\lib\\site-packages (from sympy>=1.9->-r requirements.txt (line 6)) (1.3.0)\n",
      "Collecting filelock (from torch->-r requirements.txt (line 8))\n",
      "  Downloading filelock-3.12.0-py3-none-any.whl (10 kB)\n",
      "Requirement already satisfied: typing-extensions in c:\\users\\sarah\\anaconda3\\envs\\lunar-lander-gp\\lib\\site-packages (from torch->-r requirements.txt (line 8)) (4.6.0)\n",
      "Collecting networkx (from torch->-r requirements.txt (line 8))\n",
      "  Downloading networkx-3.1-py3-none-any.whl (2.1 MB)\n",
      "                                              0.0/2.1 MB ? eta -:--:--\n",
      "                                              0.0/2.1 MB 1.3 MB/s eta 0:00:02\n",
      "     ---                                      0.2/2.1 MB 4.1 MB/s eta 0:00:01\n",
      "     ---------                                0.5/2.1 MB 6.2 MB/s eta 0:00:01\n",
      "     -------------                            0.7/2.1 MB 5.6 MB/s eta 0:00:01\n",
      "     -------------------                      1.0/2.1 MB 6.4 MB/s eta 0:00:01\n",
      "     -----------------------                  1.2/2.1 MB 6.4 MB/s eta 0:00:01\n",
      "     ----------------------------------       1.8/2.1 MB 7.7 MB/s eta 0:00:01\n",
      "     ---------------------------------------  2.1/2.1 MB 7.7 MB/s eta 0:00:01\n",
      "     ---------------------------------------- 2.1/2.1 MB 7.3 MB/s eta 0:00:00\n",
      "Requirement already satisfied: jinja2 in c:\\users\\sarah\\anaconda3\\envs\\lunar-lander-gp\\lib\\site-packages (from torch->-r requirements.txt (line 8)) (3.1.2)\n",
      "Requirement already satisfied: tornado>=6.1 in c:\\users\\sarah\\anaconda3\\envs\\lunar-lander-gp\\lib\\site-packages (from notebook->-r requirements.txt (line 9)) (6.3.2)\n",
      "Requirement already satisfied: pyzmq>=17 in c:\\users\\sarah\\anaconda3\\envs\\lunar-lander-gp\\lib\\site-packages (from notebook->-r requirements.txt (line 9)) (25.0.2)\n",
      "Requirement already satisfied: argon2-cffi in c:\\users\\sarah\\anaconda3\\envs\\lunar-lander-gp\\lib\\site-packages (from notebook->-r requirements.txt (line 9)) (21.3.0)\n",
      "Requirement already satisfied: traitlets>=4.2.1 in c:\\users\\sarah\\anaconda3\\envs\\lunar-lander-gp\\lib\\site-packages (from notebook->-r requirements.txt (line 9)) (5.9.0)\n",
      "Requirement already satisfied: jupyter-core>=4.6.1 in c:\\users\\sarah\\anaconda3\\envs\\lunar-lander-gp\\lib\\site-packages (from notebook->-r requirements.txt (line 9)) (5.3.0)\n",
      "Requirement already satisfied: jupyter-client>=5.3.4 in c:\\users\\sarah\\anaconda3\\envs\\lunar-lander-gp\\lib\\site-packages (from notebook->-r requirements.txt (line 9)) (8.2.0)\n",
      "Requirement already satisfied: ipython-genutils in c:\\users\\sarah\\anaconda3\\envs\\lunar-lander-gp\\lib\\site-packages (from notebook->-r requirements.txt (line 9)) (0.2.0)\n",
      "Requirement already satisfied: nbformat in c:\\users\\sarah\\anaconda3\\envs\\lunar-lander-gp\\lib\\site-packages (from notebook->-r requirements.txt (line 9)) (5.8.0)\n",
      "Requirement already satisfied: nbconvert>=5 in c:\\users\\sarah\\anaconda3\\envs\\lunar-lander-gp\\lib\\site-packages (from notebook->-r requirements.txt (line 9)) (7.4.0)\n",
      "Requirement already satisfied: nest-asyncio>=1.5 in c:\\users\\sarah\\anaconda3\\envs\\lunar-lander-gp\\lib\\site-packages (from notebook->-r requirements.txt (line 9)) (1.5.6)\n",
      "Requirement already satisfied: ipykernel in c:\\users\\sarah\\anaconda3\\envs\\lunar-lander-gp\\lib\\site-packages (from notebook->-r requirements.txt (line 9)) (6.23.1)\n",
      "Requirement already satisfied: Send2Trash>=1.8.0 in c:\\users\\sarah\\anaconda3\\envs\\lunar-lander-gp\\lib\\site-packages (from notebook->-r requirements.txt (line 9)) (1.8.2)\n",
      "Requirement already satisfied: terminado>=0.8.3 in c:\\users\\sarah\\anaconda3\\envs\\lunar-lander-gp\\lib\\site-packages (from notebook->-r requirements.txt (line 9)) (0.17.0)\n",
      "Requirement already satisfied: prometheus-client in c:\\users\\sarah\\anaconda3\\envs\\lunar-lander-gp\\lib\\site-packages (from notebook->-r requirements.txt (line 9)) (0.16.0)\n",
      "Requirement already satisfied: nbclassic>=0.4.7 in c:\\users\\sarah\\anaconda3\\envs\\lunar-lander-gp\\lib\\site-packages (from notebook->-r requirements.txt (line 9)) (1.0.0)\n",
      "Requirement already satisfied: jax-jumpy>=1.0.0 in c:\\users\\sarah\\anaconda3\\envs\\lunar-lander-gp\\lib\\site-packages (from gymnasium[box2d]->-r requirements.txt (line 11)) (1.0.0)\n",
      "Requirement already satisfied: cloudpickle>=1.2.0 in c:\\users\\sarah\\anaconda3\\envs\\lunar-lander-gp\\lib\\site-packages (from gymnasium[box2d]->-r requirements.txt (line 11)) (2.2.1)\n",
      "Requirement already satisfied: farama-notifications>=0.0.1 in c:\\users\\sarah\\anaconda3\\envs\\lunar-lander-gp\\lib\\site-packages (from gymnasium[box2d]->-r requirements.txt (line 11)) (0.0.4)\n",
      "Requirement already satisfied: importlib-metadata>=4.8.0 in c:\\users\\sarah\\anaconda3\\envs\\lunar-lander-gp\\lib\\site-packages (from gymnasium[box2d]->-r requirements.txt (line 11)) (6.6.0)\n",
      "Collecting box2d-py==2.3.5 (from gymnasium[box2d]->-r requirements.txt (line 11))\n",
      "  Using cached box2d_py-2.3.5-cp39-cp39-win_amd64.whl\n",
      "INFO: pip is looking at multiple versions of gymnasium[box2d] to determine which version is compatible with other requirements. This could take a while.\n",
      "Collecting gymnasium[box2d] (from -r requirements.txt (line 11))\n",
      "  Downloading gymnasium-0.28.0-py3-none-any.whl (925 kB)\n",
      "                                              0.0/925.5 kB ? eta -:--:--\n",
      "     ---------------                       389.1/925.5 kB 12.2 MB/s eta 0:00:01\n",
      "     -----------------------------          727.0/925.5 kB 9.2 MB/s eta 0:00:01\n",
      "     -------------------------------------- 925.5/925.5 kB 9.7 MB/s eta 0:00:00\n",
      "  Downloading gymnasium-0.27.1-py3-none-any.whl (883 kB)\n",
      "                                              0.0/883.7 kB ? eta -:--:--\n",
      "     ----------------                      399.4/883.7 kB 12.6 MB/s eta 0:00:01\n",
      "     -------------------------------       747.5/883.7 kB 11.9 MB/s eta 0:00:01\n",
      "     -------------------------------------- 883.7/883.7 kB 9.4 MB/s eta 0:00:00\n",
      "Collecting gymnasium-notices>=0.0.1 (from gymnasium[box2d]->-r requirements.txt (line 11))\n",
      "  Downloading gymnasium_notices-0.0.1-py3-none-any.whl (2.8 kB)\n",
      "Collecting gymnasium[box2d] (from -r requirements.txt (line 11))\n",
      "  Downloading gymnasium-0.27.0-py3-none-any.whl (879 kB)\n",
      "                                              0.0/879.1 kB ? eta -:--:--\n",
      "     ----------------                      389.1/879.1 kB 12.2 MB/s eta 0:00:01\n",
      "     ---------------------------------      778.2/879.1 kB 9.8 MB/s eta 0:00:01\n",
      "     -------------------------------------- 879.1/879.1 kB 9.2 MB/s eta 0:00:00\n",
      "Collecting shimmy<1.0,>=0.1.0 (from gymnasium[box2d]->-r requirements.txt (line 11))\n",
      "  Downloading Shimmy-0.2.1-py3-none-any.whl (25 kB)\n",
      "Collecting gymnasium[box2d] (from -r requirements.txt (line 11))\n",
      "  Downloading Gymnasium-0.26.3-py3-none-any.whl (836 kB)\n",
      "                                              0.0/836.9 kB ? eta -:--:--\n",
      "     -----------------                     389.1/836.9 kB 12.2 MB/s eta 0:00:01\n",
      "     ----------------------------------     757.8/836.9 kB 9.6 MB/s eta 0:00:01\n",
      "     -------------------------------------- 836.9/836.9 kB 8.9 MB/s eta 0:00:00\n",
      "Requirement already satisfied: zipp>=0.5 in c:\\users\\sarah\\anaconda3\\envs\\lunar-lander-gp\\lib\\site-packages (from importlib-metadata>=4.8.0->gymnasium[box2d]->-r requirements.txt (line 11)) (3.15.0)\n",
      "Requirement already satisfied: platformdirs>=2.5 in c:\\users\\sarah\\anaconda3\\envs\\lunar-lander-gp\\lib\\site-packages (from jupyter-core>=4.6.1->notebook->-r requirements.txt (line 9)) (3.5.1)\n",
      "Requirement already satisfied: pywin32>=300 in c:\\users\\sarah\\anaconda3\\envs\\lunar-lander-gp\\lib\\site-packages (from jupyter-core>=4.6.1->notebook->-r requirements.txt (line 9)) (304)\n",
      "Requirement already satisfied: jupyter-server>=1.8 in c:\\users\\sarah\\anaconda3\\envs\\lunar-lander-gp\\lib\\site-packages (from nbclassic>=0.4.7->notebook->-r requirements.txt (line 9)) (2.5.0)\n",
      "Requirement already satisfied: notebook-shim>=0.2.3 in c:\\users\\sarah\\anaconda3\\envs\\lunar-lander-gp\\lib\\site-packages (from nbclassic>=0.4.7->notebook->-r requirements.txt (line 9)) (0.2.3)\n",
      "Requirement already satisfied: beautifulsoup4 in c:\\users\\sarah\\anaconda3\\envs\\lunar-lander-gp\\lib\\site-packages (from nbconvert>=5->notebook->-r requirements.txt (line 9)) (4.12.2)\n",
      "Requirement already satisfied: bleach in c:\\users\\sarah\\anaconda3\\envs\\lunar-lander-gp\\lib\\site-packages (from nbconvert>=5->notebook->-r requirements.txt (line 9)) (6.0.0)\n",
      "Requirement already satisfied: defusedxml in c:\\users\\sarah\\anaconda3\\envs\\lunar-lander-gp\\lib\\site-packages (from nbconvert>=5->notebook->-r requirements.txt (line 9)) (0.7.1)\n",
      "Requirement already satisfied: jupyterlab-pygments in c:\\users\\sarah\\anaconda3\\envs\\lunar-lander-gp\\lib\\site-packages (from nbconvert>=5->notebook->-r requirements.txt (line 9)) (0.2.2)\n",
      "Requirement already satisfied: markupsafe>=2.0 in c:\\users\\sarah\\anaconda3\\envs\\lunar-lander-gp\\lib\\site-packages (from nbconvert>=5->notebook->-r requirements.txt (line 9)) (2.1.2)\n",
      "Requirement already satisfied: mistune<3,>=2.0.3 in c:\\users\\sarah\\anaconda3\\envs\\lunar-lander-gp\\lib\\site-packages (from nbconvert>=5->notebook->-r requirements.txt (line 9)) (2.0.5)\n",
      "Requirement already satisfied: nbclient>=0.5.0 in c:\\users\\sarah\\anaconda3\\envs\\lunar-lander-gp\\lib\\site-packages (from nbconvert>=5->notebook->-r requirements.txt (line 9)) (0.8.0)\n",
      "Requirement already satisfied: pandocfilters>=1.4.1 in c:\\users\\sarah\\anaconda3\\envs\\lunar-lander-gp\\lib\\site-packages (from nbconvert>=5->notebook->-r requirements.txt (line 9)) (1.5.0)\n",
      "Requirement already satisfied: pygments>=2.4.1 in c:\\users\\sarah\\anaconda3\\envs\\lunar-lander-gp\\lib\\site-packages (from nbconvert>=5->notebook->-r requirements.txt (line 9)) (2.15.1)\n",
      "Requirement already satisfied: tinycss2 in c:\\users\\sarah\\anaconda3\\envs\\lunar-lander-gp\\lib\\site-packages (from nbconvert>=5->notebook->-r requirements.txt (line 9)) (1.2.1)\n",
      "Requirement already satisfied: fastjsonschema in c:\\users\\sarah\\anaconda3\\envs\\lunar-lander-gp\\lib\\site-packages (from nbformat->notebook->-r requirements.txt (line 9)) (2.17.1)\n",
      "Requirement already satisfied: jsonschema>=2.6 in c:\\users\\sarah\\anaconda3\\envs\\lunar-lander-gp\\lib\\site-packages (from nbformat->notebook->-r requirements.txt (line 9)) (4.17.3)\n",
      "Requirement already satisfied: six>=1.5 in c:\\users\\sarah\\anaconda3\\envs\\lunar-lander-gp\\lib\\site-packages (from python-dateutil>=2.7->matplotlib->-r requirements.txt (line 3)) (1.16.0)\n",
      "Requirement already satisfied: pywinpty>=1.1.0 in c:\\users\\sarah\\anaconda3\\envs\\lunar-lander-gp\\lib\\site-packages (from terminado>=0.8.3->notebook->-r requirements.txt (line 9)) (2.0.10)\n",
      "Requirement already satisfied: argon2-cffi-bindings in c:\\users\\sarah\\anaconda3\\envs\\lunar-lander-gp\\lib\\site-packages (from argon2-cffi->notebook->-r requirements.txt (line 9)) (21.2.0)\n",
      "Requirement already satisfied: comm>=0.1.1 in c:\\users\\sarah\\anaconda3\\envs\\lunar-lander-gp\\lib\\site-packages (from ipykernel->notebook->-r requirements.txt (line 9)) (0.1.3)\n",
      "Requirement already satisfied: debugpy>=1.6.5 in c:\\users\\sarah\\anaconda3\\envs\\lunar-lander-gp\\lib\\site-packages (from ipykernel->notebook->-r requirements.txt (line 9)) (1.6.7)\n",
      "Requirement already satisfied: ipython>=7.23.1 in c:\\users\\sarah\\anaconda3\\envs\\lunar-lander-gp\\lib\\site-packages (from ipykernel->notebook->-r requirements.txt (line 9)) (8.13.2)\n",
      "Requirement already satisfied: matplotlib-inline>=0.1 in c:\\users\\sarah\\anaconda3\\envs\\lunar-lander-gp\\lib\\site-packages (from ipykernel->notebook->-r requirements.txt (line 9)) (0.1.6)\n",
      "Requirement already satisfied: psutil in c:\\users\\sarah\\anaconda3\\envs\\lunar-lander-gp\\lib\\site-packages (from ipykernel->notebook->-r requirements.txt (line 9)) (5.9.5)\n",
      "Requirement already satisfied: backcall in c:\\users\\sarah\\anaconda3\\envs\\lunar-lander-gp\\lib\\site-packages (from ipython>=7.23.1->ipykernel->notebook->-r requirements.txt (line 9)) (0.2.0)\n",
      "Requirement already satisfied: decorator in c:\\users\\sarah\\anaconda3\\envs\\lunar-lander-gp\\lib\\site-packages (from ipython>=7.23.1->ipykernel->notebook->-r requirements.txt (line 9)) (5.1.1)\n",
      "Requirement already satisfied: jedi>=0.16 in c:\\users\\sarah\\anaconda3\\envs\\lunar-lander-gp\\lib\\site-packages (from ipython>=7.23.1->ipykernel->notebook->-r requirements.txt (line 9)) (0.18.2)\n",
      "Requirement already satisfied: pickleshare in c:\\users\\sarah\\anaconda3\\envs\\lunar-lander-gp\\lib\\site-packages (from ipython>=7.23.1->ipykernel->notebook->-r requirements.txt (line 9)) (0.7.5)\n",
      "Requirement already satisfied: prompt-toolkit!=3.0.37,<3.1.0,>=3.0.30 in c:\\users\\sarah\\anaconda3\\envs\\lunar-lander-gp\\lib\\site-packages (from ipython>=7.23.1->ipykernel->notebook->-r requirements.txt (line 9)) (3.0.38)\n",
      "Requirement already satisfied: stack-data in c:\\users\\sarah\\anaconda3\\envs\\lunar-lander-gp\\lib\\site-packages (from ipython>=7.23.1->ipykernel->notebook->-r requirements.txt (line 9)) (0.6.2)\n",
      "Requirement already satisfied: colorama in c:\\users\\sarah\\anaconda3\\envs\\lunar-lander-gp\\lib\\site-packages (from ipython>=7.23.1->ipykernel->notebook->-r requirements.txt (line 9)) (0.4.6)\n",
      "Requirement already satisfied: attrs>=17.4.0 in c:\\users\\sarah\\anaconda3\\envs\\lunar-lander-gp\\lib\\site-packages (from jsonschema>=2.6->nbformat->notebook->-r requirements.txt (line 9)) (23.1.0)\n",
      "Requirement already satisfied: pyrsistent!=0.17.0,!=0.17.1,!=0.17.2,>=0.14.0 in c:\\users\\sarah\\anaconda3\\envs\\lunar-lander-gp\\lib\\site-packages (from jsonschema>=2.6->nbformat->notebook->-r requirements.txt (line 9)) (0.19.3)\n",
      "Requirement already satisfied: anyio>=3.1.0 in c:\\users\\sarah\\anaconda3\\envs\\lunar-lander-gp\\lib\\site-packages (from jupyter-server>=1.8->nbclassic>=0.4.7->notebook->-r requirements.txt (line 9)) (3.6.2)\n",
      "Requirement already satisfied: jupyter-events>=0.4.0 in c:\\users\\sarah\\anaconda3\\envs\\lunar-lander-gp\\lib\\site-packages (from jupyter-server>=1.8->nbclassic>=0.4.7->notebook->-r requirements.txt (line 9)) (0.6.3)\n",
      "Requirement already satisfied: jupyter-server-terminals in c:\\users\\sarah\\anaconda3\\envs\\lunar-lander-gp\\lib\\site-packages (from jupyter-server>=1.8->nbclassic>=0.4.7->notebook->-r requirements.txt (line 9)) (0.4.4)\n",
      "Requirement already satisfied: websocket-client in c:\\users\\sarah\\anaconda3\\envs\\lunar-lander-gp\\lib\\site-packages (from jupyter-server>=1.8->nbclassic>=0.4.7->notebook->-r requirements.txt (line 9)) (1.5.2)\n",
      "Requirement already satisfied: cffi>=1.0.1 in c:\\users\\sarah\\anaconda3\\envs\\lunar-lander-gp\\lib\\site-packages (from argon2-cffi-bindings->argon2-cffi->notebook->-r requirements.txt (line 9)) (1.15.1)\n",
      "Requirement already satisfied: soupsieve>1.2 in c:\\users\\sarah\\anaconda3\\envs\\lunar-lander-gp\\lib\\site-packages (from beautifulsoup4->nbconvert>=5->notebook->-r requirements.txt (line 9)) (2.3.2.post1)\n",
      "Requirement already satisfied: webencodings in c:\\users\\sarah\\anaconda3\\envs\\lunar-lander-gp\\lib\\site-packages (from bleach->nbconvert>=5->notebook->-r requirements.txt (line 9)) (0.5.1)\n",
      "Requirement already satisfied: idna>=2.8 in c:\\users\\sarah\\anaconda3\\envs\\lunar-lander-gp\\lib\\site-packages (from anyio>=3.1.0->jupyter-server>=1.8->nbclassic>=0.4.7->notebook->-r requirements.txt (line 9)) (3.4)\n",
      "Requirement already satisfied: sniffio>=1.1 in c:\\users\\sarah\\anaconda3\\envs\\lunar-lander-gp\\lib\\site-packages (from anyio>=3.1.0->jupyter-server>=1.8->nbclassic>=0.4.7->notebook->-r requirements.txt (line 9)) (1.3.0)\n",
      "Requirement already satisfied: pycparser in c:\\users\\sarah\\anaconda3\\envs\\lunar-lander-gp\\lib\\site-packages (from cffi>=1.0.1->argon2-cffi-bindings->argon2-cffi->notebook->-r requirements.txt (line 9)) (2.21)\n",
      "Requirement already satisfied: parso<0.9.0,>=0.8.0 in c:\\users\\sarah\\anaconda3\\envs\\lunar-lander-gp\\lib\\site-packages (from jedi>=0.16->ipython>=7.23.1->ipykernel->notebook->-r requirements.txt (line 9)) (0.8.3)\n",
      "Requirement already satisfied: python-json-logger>=2.0.4 in c:\\users\\sarah\\anaconda3\\envs\\lunar-lander-gp\\lib\\site-packages (from jupyter-events>=0.4.0->jupyter-server>=1.8->nbclassic>=0.4.7->notebook->-r requirements.txt (line 9)) (2.0.7)\n",
      "Requirement already satisfied: pyyaml>=5.3 in c:\\users\\sarah\\anaconda3\\envs\\lunar-lander-gp\\lib\\site-packages (from jupyter-events>=0.4.0->jupyter-server>=1.8->nbclassic>=0.4.7->notebook->-r requirements.txt (line 9)) (6.0)\n",
      "Requirement already satisfied: rfc3339-validator in c:\\users\\sarah\\anaconda3\\envs\\lunar-lander-gp\\lib\\site-packages (from jupyter-events>=0.4.0->jupyter-server>=1.8->nbclassic>=0.4.7->notebook->-r requirements.txt (line 9)) (0.1.4)\n",
      "Requirement already satisfied: rfc3986-validator>=0.1.1 in c:\\users\\sarah\\anaconda3\\envs\\lunar-lander-gp\\lib\\site-packages (from jupyter-events>=0.4.0->jupyter-server>=1.8->nbclassic>=0.4.7->notebook->-r requirements.txt (line 9)) (0.1.1)\n",
      "Requirement already satisfied: wcwidth in c:\\users\\sarah\\anaconda3\\envs\\lunar-lander-gp\\lib\\site-packages (from prompt-toolkit!=3.0.37,<3.1.0,>=3.0.30->ipython>=7.23.1->ipykernel->notebook->-r requirements.txt (line 9)) (0.2.6)\n",
      "Requirement already satisfied: executing>=1.2.0 in c:\\users\\sarah\\anaconda3\\envs\\lunar-lander-gp\\lib\\site-packages (from stack-data->ipython>=7.23.1->ipykernel->notebook->-r requirements.txt (line 9)) (1.2.0)\n",
      "Requirement already satisfied: asttokens>=2.1.0 in c:\\users\\sarah\\anaconda3\\envs\\lunar-lander-gp\\lib\\site-packages (from stack-data->ipython>=7.23.1->ipykernel->notebook->-r requirements.txt (line 9)) (2.2.1)\n",
      "Requirement already satisfied: pure-eval in c:\\users\\sarah\\anaconda3\\envs\\lunar-lander-gp\\lib\\site-packages (from stack-data->ipython>=7.23.1->ipykernel->notebook->-r requirements.txt (line 9)) (0.2.2)\n",
      "Collecting fqdn (from jsonschema>=2.6->nbformat->notebook->-r requirements.txt (line 9))\n",
      "  Downloading fqdn-1.5.1-py3-none-any.whl (9.1 kB)\n",
      "Collecting isoduration (from jsonschema>=2.6->nbformat->notebook->-r requirements.txt (line 9))\n",
      "  Downloading isoduration-20.11.0-py3-none-any.whl (11 kB)\n",
      "Collecting jsonpointer>1.13 (from jsonschema>=2.6->nbformat->notebook->-r requirements.txt (line 9))\n",
      "  Downloading jsonpointer-2.3-py2.py3-none-any.whl (7.8 kB)\n",
      "Collecting uri-template (from jsonschema>=2.6->nbformat->notebook->-r requirements.txt (line 9))\n",
      "  Downloading uri_template-1.2.0-py3-none-any.whl (10 kB)\n",
      "Collecting webcolors>=1.11 (from jsonschema>=2.6->nbformat->notebook->-r requirements.txt (line 9))\n",
      "  Downloading webcolors-1.13-py3-none-any.whl (14 kB)\n",
      "Collecting arrow>=0.15.0 (from isoduration->jsonschema>=2.6->nbformat->notebook->-r requirements.txt (line 9))\n",
      "  Downloading arrow-1.2.3-py3-none-any.whl (66 kB)\n",
      "                                              0.0/66.4 kB ? eta -:--:--\n",
      "     ---------------------------------------- 66.4/66.4 kB 3.5 MB/s eta 0:00:00\n",
      "Installing collected packages: swig, pyglet, gymnasium-notices, box2d-py, webcolors, uri-template, pygame, networkx, jsonpointer, fqdn, filelock, torch, gymnasium, arrow, isoduration\n",
      "  Attempting uninstall: gymnasium\n",
      "    Found existing installation: gymnasium 0.28.1\n",
      "    Uninstalling gymnasium-0.28.1:\n",
      "      Successfully uninstalled gymnasium-0.28.1\n",
      "Successfully installed arrow-1.2.3 box2d-py-2.3.5 filelock-3.12.0 fqdn-1.5.1 gymnasium-0.26.3 gymnasium-notices-0.0.1 isoduration-20.11.0 jsonpointer-2.3 networkx-3.1 pygame-2.1.0 pyglet-1.5.21 swig-4.1.1 torch-2.0.1 uri-template-1.2.0 webcolors-1.13\n"
     ]
    }
   ],
   "source": [
    "#test change\n",
    "!pip install -r requirements.txt"
   ]
  },
  {
   "cell_type": "markdown",
   "metadata": {},
   "source": [
    "## Imports\n",
    "Imports from the standard genepro-multi library are done here. Any adjustments (e.g. different operators) should be made in the notebook. For example:\n",
    "\n",
    "```\n",
    "class SmoothOperator(Node):\n",
    "  def __init__(self):\n",
    "    super(SmoothOperator,self).__init__()\n",
    "    self.arity = 1\n",
    "    self.symb = \"SmoothOperator\"\n",
    "\n",
    "  def _get_args_repr(self, args):\n",
    "    return self._get_typical_repr(args,'before')\n",
    "\n",
    "  def get_output(self, X):\n",
    "    c_outs = self._get_child_outputs(X)\n",
    "    return np.smoothOperation(c_outs[0])\n",
    "\n",
    "  def get_output_pt(self, X):\n",
    "    c_outs = self._get_child_outputs_pt(X)\n",
    "    return torch.smoothOperation(c_outs[0])\n",
    "```"
   ]
  },
  {
   "cell_type": "code",
   "execution_count": 2,
   "metadata": {},
   "outputs": [],
   "source": [
    "import gymnasium as gym\n",
    "\n",
    "from genepro.node_impl import *\n",
    "from genepro.evo import Evolution\n",
    "from genepro.node_impl import Constant\n",
    "\n",
    "import torch\n",
    "import torch.optim as optim\n",
    "\n",
    "import random\n",
    "import os\n",
    "import copy\n",
    "from collections import namedtuple, deque\n",
    "\n",
    "import matplotlib.pyplot as plt\n",
    "from matplotlib import animation"
   ]
  },
  {
   "cell_type": "markdown",
   "metadata": {},
   "source": [
    "## Reinforcement Learning Setup\n",
    "Here we first setup the Gymnasium environment. Please see https://gymnasium.farama.org/environments/box2d/lunar_lander/ for more information on the environment. \n",
    "\n",
    "Then a memory buffer is made. This is a buffer in which state transitions are stored. When the buffer reaches its maximum capacity old transitions are replaced by new ones.\n",
    "\n",
    "A frame buffer is initialised used to later store animation frames of the environment."
   ]
  },
  {
   "cell_type": "code",
   "execution_count": 3,
   "metadata": {},
   "outputs": [],
   "source": [
    "env = gym.make(\"LunarLander-v2\", render_mode=\"rgb_array\")"
   ]
  },
  {
   "cell_type": "code",
   "execution_count": 4,
   "metadata": {},
   "outputs": [],
   "source": [
    "Transition = namedtuple('Transition', ('state', 'action', 'next_state', 'reward'))\n",
    "\n",
    "class ReplayMemory(object):\n",
    "    def __init__(self, capacity): #specifies the max length of the memory buffer by making deque() object\n",
    "        self.memory = deque([], maxlen=capacity)\n",
    "\n",
    "    def push(self, *args): #pushes new transition(state,action,nextstate, reward) onto memory\n",
    "        \"\"\"Save a transition\"\"\"\n",
    "        self.memory.append(Transition(*args))\n",
    "\n",
    "    def sample(self, batch_size): #returns sample batch of transitions in memory\n",
    "        return random.sample(self.memory, batch_size)\n",
    "\n",
    "    def __len__(self): #returns current length of the memory\n",
    "        return len(self.memory)\n",
    "\n",
    "    def __iadd__(self, other): #changes and returns the existing memory\n",
    "      self.memory += other.memory\n",
    "      return self \n",
    "\n",
    "    def __add__(self, other): #leaves existing memory but creates and returns new combined memory\n",
    "      self.memory = self.memory + other.memory \n",
    "      return self"
   ]
  },
  {
   "cell_type": "code",
   "execution_count": 5,
   "metadata": {},
   "outputs": [],
   "source": [
    "frames = []"
   ]
  },
  {
   "cell_type": "markdown",
   "metadata": {},
   "source": [
    "## Fitness Function\n",
    "\n",
    "Here you get to be creative. The default setup evaluates 5 episodes of 300 frames. Think of what action to pick and what fitness function to use. The Multi-tree takes an input of $n \\times d$ where $n$ is a batch of size 1."
   ]
  },
  {
   "cell_type": "code",
   "execution_count": 9,
   "metadata": {},
   "outputs": [],
   "source": [
    "def fitness_function_pt(multitree, num_episodes=5, episode_duration=300, render=False, ignore_done=False):\n",
    "  memory = ReplayMemory(10000)\n",
    "  rewards = []\n",
    "\n",
    "  for _ in range(num_episodes):\n",
    "    # get initial state of the environment\n",
    "    observation = env.reset() #resets to initial state and returns first agent observation information\n",
    "    observation = observation[0] #returns metric(?) of first observation\n",
    "    \n",
    "    for _ in range(episode_duration):\n",
    "      if render:\n",
    "        frames.append(env.render())\n",
    "\n",
    "      input_sample = torch.from_numpy(observation.reshape((1,-1))).float() #creates a tensor from a numpy array (shared memory)\n",
    "      \n",
    "      # what goes here? TODO\n",
    "      action = None\n",
    "      #old definition(could be a hint): \n",
    "      action = torch.argmax(multitree.get_output_pt(input_sample))\n",
    "      observation, reward, terminated, truncated, info = env.step(action.item()) #updates environment with input action\n",
    "      rewards.append(reward)\n",
    "      output_sample = torch.from_numpy(observation.reshape((1,-1))).float()\n",
    "      memory.push(input_sample, torch.tensor([[action.item()]]), output_sample, torch.tensor([reward]))\n",
    "      if (terminated or truncated) and not ignore_done:\n",
    "        break\n",
    "\n",
    "  fitness = np.sum(rewards)\n",
    "  \n",
    "  return fitness, memory"
   ]
  },
  {
   "cell_type": "markdown",
   "metadata": {},
   "source": [
    "## Evolution Setup\n",
    "Here the leaf and internal nodes are defined. Think about the odds of sampling a constant in this default configurations. Also think about any operators that could be useful and add them here. \n",
    "\n",
    "Adjust the population size (multiple of 8 if you want to use the standard tournament selection), max generations and max tree size to taste. Be aware that each of these settings can increase the runtime."
   ]
  },
  {
   "cell_type": "code",
   "execution_count": 10,
   "metadata": {},
   "outputs": [],
   "source": [
    "num_features = env.observation_space.shape[0]\n",
    "leaf_nodes = [Feature(i) for i in range(num_features)]\n",
    "leaf_nodes = leaf_nodes + [Constant()] # Think about the probability of sampling a coefficient\n",
    "internal_nodes = [Plus(),Minus(),Times(),Div()] #Add your own operators here\n",
    "\n",
    "evo = Evolution(\n",
    "  fitness_function_pt, internal_nodes, leaf_nodes,\n",
    "  4,\n",
    "  pop_size=16,\n",
    "  max_gens=10,\n",
    "  max_tree_size=31,\n",
    "  n_jobs=8,\n",
    "  verbose=True)"
   ]
  },
  {
   "cell_type": "markdown",
   "metadata": {},
   "source": [
    "## Evolve\n",
    "Running this cell will use all the settings above as parameters"
   ]
  },
  {
   "cell_type": "code",
   "execution_count": 11,
   "metadata": {},
   "outputs": [
    {
     "name": "stdout",
     "output_type": "stream",
     "text": [
      "gen: 1,\tbest of gen fitness: -574.739,\tbest of gen size: 29\n",
      "gen: 2,\tbest of gen fitness: -440.545,\tbest of gen size: 29\n",
      "gen: 3,\tbest of gen fitness: -331.155,\tbest of gen size: 29\n",
      "gen: 4,\tbest of gen fitness: -480.063,\tbest of gen size: 29\n",
      "gen: 5,\tbest of gen fitness: -375.554,\tbest of gen size: 29\n",
      "gen: 6,\tbest of gen fitness: -388.698,\tbest of gen size: 25\n",
      "gen: 7,\tbest of gen fitness: -336.266,\tbest of gen size: 29\n",
      "gen: 8,\tbest of gen fitness: -470.559,\tbest of gen size: 29\n",
      "gen: 9,\tbest of gen fitness: -487.713,\tbest of gen size: 29\n",
      "gen: 10,\tbest of gen fitness: -548.855,\tbest of gen size: 29\n"
     ]
    }
   ],
   "source": [
    "evo.evolve()"
   ]
  },
  {
   "cell_type": "markdown",
   "metadata": {},
   "source": [
    "# Test"
   ]
  },
  {
   "cell_type": "code",
   "execution_count": 12,
   "metadata": {},
   "outputs": [
    {
     "ename": "SyntaxError",
     "evalue": "invalid syntax (168324889.py, line 14)",
     "output_type": "error",
     "traceback": [
      "\u001b[1;36m  Cell \u001b[1;32mIn[12], line 14\u001b[1;36m\u001b[0m\n\u001b[1;33m    action = # What goes here?\u001b[0m\n\u001b[1;37m             ^\u001b[0m\n\u001b[1;31mSyntaxError\u001b[0m\u001b[1;31m:\u001b[0m invalid syntax\n"
     ]
    }
   ],
   "source": [
    "def get_test_score(tree):\n",
    "    rewards = []\n",
    "\n",
    "    for i in range(10):\n",
    "      # get initial state\n",
    "      observation = env.reset(seed=i)\n",
    "      observation = observation[0]\n",
    "\n",
    "      for _ in range(500):    \n",
    "        # build up the input sample for GP\n",
    "        input_sample = torch.from_numpy(observation.reshape((1,-1))).float()\n",
    "        # get output (squeezing because it is encapsulated in an array)\n",
    "        output = tree.get_output_pt(input_sample)\n",
    "        action = # What goes here?\n",
    "        observation, reward, terminated, truncated, info = env.step(action.item())\n",
    "        rewards.append(reward)\n",
    "\n",
    "\n",
    "        output_sample = torch.from_numpy(observation.reshape((1,-1))).float()\n",
    "        if (terminated or truncated):\n",
    "            break\n",
    "\n",
    "    fitness = np.sum(rewards)\n",
    "    \n",
    "    return fitness\n",
    "\n",
    "best = evo.best_of_gens[-1]\n",
    "\n",
    "print(best.get_readable_repr())\n",
    "print(get_test_score(best))"
   ]
  },
  {
   "cell_type": "markdown",
   "metadata": {},
   "source": [
    "## Make an animation\n",
    "Here the best evolved individual is selected and one episode is rendered. Make sure to save your lunar landers over time to track progress and make comparisons."
   ]
  },
  {
   "cell_type": "code",
   "execution_count": null,
   "metadata": {},
   "outputs": [],
   "source": [
    "frames = []\n",
    "\n",
    "# gist to save gif from https://gist.github.com/botforge/64cbb71780e6208172bbf03cd9293553\n",
    "def save_frames_as_gif(frames, path='./', filename='evolved_lander.gif'):\n",
    "  plt.figure(figsize=(frames[0].shape[1] / 72.0, frames[0].shape[0] / 72.0), dpi=72)\n",
    "  patch = plt.imshow(frames[0])\n",
    "  plt.axis('off')\n",
    "  def animate(i):\n",
    "      patch.set_data(frames[i])\n",
    "  anim = animation.FuncAnimation(plt.gcf(), animate, frames = len(frames), interval=50)\n",
    "  anim.save(path + filename, writer='imagemagick', fps=60)\n",
    "\n",
    "frames = []\n",
    "fitness_function_pt(best, num_episodes=1, episode_duration=500, render=True, ignore_done=False)\n",
    "env.close()\n",
    "save_frames_as_gif(frames)"
   ]
  },
  {
   "cell_type": "markdown",
   "metadata": {},
   "source": [
    "## Play animation"
   ]
  },
  {
   "cell_type": "markdown",
   "metadata": {},
   "source": [
    "<img src=\"evolved_lander.gif\" width=\"750\">"
   ]
  },
  {
   "cell_type": "markdown",
   "metadata": {},
   "source": [
    "## Optimisation\n",
    "The coefficients in the multi-tree aren't optimised. Here Q-learning (taken from https://pytorch.org/tutorials/intermediate/reinforcement_q_learning.html) is used to optimise the weights further. Incorporate coefficient optimisation in training your agent(s). Coefficient Optimisation can be expensive. Think about how often you want to optimise, when, which individuals etc."
   ]
  },
  {
   "cell_type": "code",
   "execution_count": null,
   "metadata": {},
   "outputs": [],
   "source": [
    "batch_size = 128\n",
    "GAMMA = 0.99\n",
    "\n",
    "constants = best.get_subtrees_consts()\n",
    "\n",
    "if len(constants)>0:\n",
    "  optimizer = optim.AdamW(constants, lr=1e-3, amsgrad=True)\n",
    "\n",
    "for _ in range(500):\n",
    "\n",
    "  if len(constants)>0 and len(evo.memory)>batch_size:\n",
    "    target_tree = copy.deepcopy(best)\n",
    "\n",
    "    transitions = evo.memory.sample(batch_size)\n",
    "    batch = Transition(*zip(*transitions))\n",
    "    \n",
    "    non_final_mask = torch.tensor(tuple(map(lambda s: s is not None,\n",
    "                                        batch.next_state)), dtype=torch.bool)\n",
    "\n",
    "    non_final_next_states = torch.cat([s for s in batch.next_state\n",
    "                                               if s is not None])\n",
    "    state_batch = torch.cat(batch.state)\n",
    "    action_batch = torch.cat(batch.action)\n",
    "    reward_batch = torch.cat(batch.reward)\n",
    "\n",
    "    state_action_values = best.get_output_pt(state_batch).gather(1, action_batch)\n",
    "    next_state_values = torch.zeros(batch_size, dtype=torch.float)\n",
    "    with torch.no_grad():\n",
    "      next_state_values[non_final_mask] = target_tree.get_output_pt(non_final_next_states).max(1)[0].float()\n",
    "\n",
    "    expected_state_action_values = (next_state_values * GAMMA) + reward_batch\n",
    "    \n",
    "    criterion = nn.SmoothL1Loss()\n",
    "    loss = criterion(state_action_values, expected_state_action_values.unsqueeze(1))\n",
    "   \n",
    "    # Optimize the model\n",
    "    optimizer.zero_grad()\n",
    "    loss.backward()\n",
    "    torch.nn.utils.clip_grad_value_(constants, 100)\n",
    "    optimizer.step()\n",
    "\n",
    "print(best.get_readable_repr())\n",
    "print(get_test_score(best))"
   ]
  },
  {
   "cell_type": "code",
   "execution_count": null,
   "metadata": {},
   "outputs": [],
   "source": [
    "frames = []\n",
    "fitness_function_pt(best, num_episodes=1, episode_duration=500, render=True, ignore_done=False)\n",
    "env.close()\n",
    "save_frames_as_gif(frames, filename='evolved_lander_RL.gif')"
   ]
  },
  {
   "cell_type": "markdown",
   "metadata": {},
   "source": [
    "<img src=\"evolved_lander_RL.gif\" width=\"750\">"
   ]
  },
  {
   "cell_type": "code",
   "execution_count": null,
   "metadata": {},
   "outputs": [],
   "source": []
  },
  {
   "cell_type": "code",
   "execution_count": null,
   "metadata": {},
   "outputs": [],
   "source": []
  }
 ],
 "metadata": {
  "kernelspec": {
   "display_name": "Python 3 (ipykernel)",
   "language": "python",
   "name": "python3"
  },
  "language_info": {
   "codemirror_mode": {
    "name": "ipython",
    "version": 3
   },
   "file_extension": ".py",
   "mimetype": "text/x-python",
   "name": "python",
   "nbconvert_exporter": "python",
   "pygments_lexer": "ipython3",
   "version": "3.9.16"
  }
 },
 "nbformat": 4,
 "nbformat_minor": 4
}
